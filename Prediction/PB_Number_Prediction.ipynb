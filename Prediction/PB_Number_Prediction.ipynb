{
 "cells": [
  {
   "cell_type": "markdown",
   "id": "ba1f357d",
   "metadata": {},
   "source": [
    "# Import Dependencies"
   ]
  },
  {
   "cell_type": "code",
   "execution_count": 3,
   "id": "6f219510",
   "metadata": {},
   "outputs": [],
   "source": [
    "import numpy as np\n",
    "import pandas as pd\n",
    "import matplotlib.pyplot as plt\n",
    "from sklearn.datasets import make_regression\n",
    "from sklearn.linear_model import LinearRegression"
   ]
  },
  {
   "cell_type": "markdown",
   "id": "74eeb120",
   "metadata": {},
   "source": [
    "# Import Files"
   ]
  },
  {
   "cell_type": "code",
   "execution_count": 4,
   "id": "bb854df3",
   "metadata": {},
   "outputs": [
    {
     "data": {
      "text/html": [
       "<div>\n",
       "<style scoped>\n",
       "    .dataframe tbody tr th:only-of-type {\n",
       "        vertical-align: middle;\n",
       "    }\n",
       "\n",
       "    .dataframe tbody tr th {\n",
       "        vertical-align: top;\n",
       "    }\n",
       "\n",
       "    .dataframe thead th {\n",
       "        text-align: right;\n",
       "    }\n",
       "</style>\n",
       "<table border=\"1\" class=\"dataframe\">\n",
       "  <thead>\n",
       "    <tr style=\"text-align: right;\">\n",
       "      <th></th>\n",
       "      <th>DrawDate</th>\n",
       "      <th>WB1</th>\n",
       "      <th>WB2</th>\n",
       "      <th>WB3</th>\n",
       "      <th>WB4</th>\n",
       "      <th>WB5</th>\n",
       "      <th>PB</th>\n",
       "      <th>PP</th>\n",
       "    </tr>\n",
       "  </thead>\n",
       "  <tbody>\n",
       "    <tr>\n",
       "      <th>0</th>\n",
       "      <td>03/15/2017</td>\n",
       "      <td>30</td>\n",
       "      <td>16</td>\n",
       "      <td>41</td>\n",
       "      <td>48</td>\n",
       "      <td>53</td>\n",
       "      <td>16</td>\n",
       "      <td>3.0</td>\n",
       "    </tr>\n",
       "    <tr>\n",
       "      <th>1</th>\n",
       "      <td>03/11/2017</td>\n",
       "      <td>57</td>\n",
       "      <td>41</td>\n",
       "      <td>50</td>\n",
       "      <td>26</td>\n",
       "      <td>1</td>\n",
       "      <td>11</td>\n",
       "      <td>2.0</td>\n",
       "    </tr>\n",
       "    <tr>\n",
       "      <th>2</th>\n",
       "      <td>03/08/2017</td>\n",
       "      <td>42</td>\n",
       "      <td>23</td>\n",
       "      <td>59</td>\n",
       "      <td>46</td>\n",
       "      <td>33</td>\n",
       "      <td>4</td>\n",
       "      <td>2.0</td>\n",
       "    </tr>\n",
       "    <tr>\n",
       "      <th>3</th>\n",
       "      <td>03/04/2017</td>\n",
       "      <td>2</td>\n",
       "      <td>22</td>\n",
       "      <td>63</td>\n",
       "      <td>19</td>\n",
       "      <td>18</td>\n",
       "      <td>19</td>\n",
       "      <td>3.0</td>\n",
       "    </tr>\n",
       "    <tr>\n",
       "      <th>4</th>\n",
       "      <td>03/01/2017</td>\n",
       "      <td>16</td>\n",
       "      <td>10</td>\n",
       "      <td>52</td>\n",
       "      <td>40</td>\n",
       "      <td>55</td>\n",
       "      <td>17</td>\n",
       "      <td>10.0</td>\n",
       "    </tr>\n",
       "    <tr>\n",
       "      <th>5</th>\n",
       "      <td>02/25/2017</td>\n",
       "      <td>6</td>\n",
       "      <td>62</td>\n",
       "      <td>32</td>\n",
       "      <td>47</td>\n",
       "      <td>65</td>\n",
       "      <td>19</td>\n",
       "      <td>2.0</td>\n",
       "    </tr>\n",
       "    <tr>\n",
       "      <th>6</th>\n",
       "      <td>02/22/2017</td>\n",
       "      <td>52</td>\n",
       "      <td>10</td>\n",
       "      <td>61</td>\n",
       "      <td>28</td>\n",
       "      <td>13</td>\n",
       "      <td>2</td>\n",
       "      <td>2.0</td>\n",
       "    </tr>\n",
       "    <tr>\n",
       "      <th>7</th>\n",
       "      <td>02/18/2017</td>\n",
       "      <td>9</td>\n",
       "      <td>3</td>\n",
       "      <td>33</td>\n",
       "      <td>7</td>\n",
       "      <td>31</td>\n",
       "      <td>20</td>\n",
       "      <td>3.0</td>\n",
       "    </tr>\n",
       "    <tr>\n",
       "      <th>8</th>\n",
       "      <td>02/15/2017</td>\n",
       "      <td>33</td>\n",
       "      <td>5</td>\n",
       "      <td>42</td>\n",
       "      <td>38</td>\n",
       "      <td>28</td>\n",
       "      <td>19</td>\n",
       "      <td>2.0</td>\n",
       "    </tr>\n",
       "    <tr>\n",
       "      <th>9</th>\n",
       "      <td>02/11/2017</td>\n",
       "      <td>37</td>\n",
       "      <td>64</td>\n",
       "      <td>17</td>\n",
       "      <td>9</td>\n",
       "      <td>5</td>\n",
       "      <td>2</td>\n",
       "      <td>2.0</td>\n",
       "    </tr>\n",
       "  </tbody>\n",
       "</table>\n",
       "</div>"
      ],
      "text/plain": [
       "     DrawDate  WB1  WB2  WB3  WB4  WB5  PB    PP\n",
       "0  03/15/2017   30   16   41   48   53  16   3.0\n",
       "1  03/11/2017   57   41   50   26    1  11   2.0\n",
       "2  03/08/2017   42   23   59   46   33   4   2.0\n",
       "3  03/04/2017    2   22   63   19   18  19   3.0\n",
       "4  03/01/2017   16   10   52   40   55  17  10.0\n",
       "5  02/25/2017    6   62   32   47   65  19   2.0\n",
       "6  02/22/2017   52   10   61   28   13   2   2.0\n",
       "7  02/18/2017    9    3   33    7   31  20   3.0\n",
       "8  02/15/2017   33    5   42   38   28  19   2.0\n",
       "9  02/11/2017   37   64   17    9    5   2   2.0"
      ]
     },
     "execution_count": 4,
     "metadata": {},
     "output_type": "execute_result"
    }
   ],
   "source": [
    "pb_df = pd.read_csv('pb_winning_numbers_03-18-2017.csv')\n",
    "pb_df.head(10)"
   ]
  },
  {
   "cell_type": "markdown",
   "id": "bc415e1f",
   "metadata": {},
   "source": [
    "# Data Info"
   ]
  },
  {
   "cell_type": "code",
   "execution_count": 6,
   "id": "94c8e179",
   "metadata": {},
   "outputs": [
    {
     "data": {
      "text/plain": [
       "DrawDate     object\n",
       "WB1           int64\n",
       "WB2           int64\n",
       "WB3           int64\n",
       "WB4           int64\n",
       "WB5           int64\n",
       "PB            int64\n",
       "PP          float64\n",
       "dtype: object"
      ]
     },
     "execution_count": 6,
     "metadata": {},
     "output_type": "execute_result"
    }
   ],
   "source": [
    "pb_df.dtypes"
   ]
  },
  {
   "cell_type": "code",
   "execution_count": 7,
   "id": "f88f2342",
   "metadata": {},
   "outputs": [
    {
     "name": "stdout",
     "output_type": "stream",
     "text": [
      "Column DrawDate has 0) null values\n",
      "Column WB1 has 0) null values\n",
      "Column WB2 has 0) null values\n",
      "Column WB3 has 0) null values\n",
      "Column WB4 has 0) null values\n",
      "Column WB5 has 0) null values\n",
      "Column PB has 0) null values\n",
      "Column PP has 559) null values\n"
     ]
    }
   ],
   "source": [
    "#search for null values\n",
    "for column in pb_df.columns:\n",
    "    print(f\"Column {column} has {pb_df[column].isnull().sum()}) null values\")"
   ]
  },
  {
   "cell_type": "code",
   "execution_count": 8,
   "id": "3dd77d3e",
   "metadata": {},
   "outputs": [],
   "source": [
    "#drop null rows\n",
    "pb_df = pb_df.dropna()"
   ]
  },
  {
   "cell_type": "markdown",
   "id": "704ac551",
   "metadata": {},
   "source": [
    "# Basic Info"
   ]
  },
  {
   "cell_type": "code",
   "execution_count": 18,
   "id": "33413f0b",
   "metadata": {},
   "outputs": [
    {
     "data": {
      "text/plain": [
       "0    17\n",
       "1    40\n",
       "2    41\n",
       "dtype: int64"
      ]
     },
     "execution_count": 18,
     "metadata": {},
     "output_type": "execute_result"
    }
   ],
   "source": [
    "#find mode\n",
    "pb_df.loc[:,\"WB1\"].mode()"
   ]
  },
  {
   "cell_type": "code",
   "execution_count": null,
   "id": "479fed9c",
   "metadata": {},
   "outputs": [],
   "source": []
  },
  {
   "cell_type": "code",
   "execution_count": null,
   "id": "d92a9188",
   "metadata": {},
   "outputs": [],
   "source": []
  }
 ],
 "metadata": {
  "kernelspec": {
   "display_name": "Python 3",
   "language": "python",
   "name": "python3"
  },
  "language_info": {
   "codemirror_mode": {
    "name": "ipython",
    "version": 3
   },
   "file_extension": ".py",
   "mimetype": "text/x-python",
   "name": "python",
   "nbconvert_exporter": "python",
   "pygments_lexer": "ipython3",
   "version": "3.8.8"
  }
 },
 "nbformat": 4,
 "nbformat_minor": 5
}
